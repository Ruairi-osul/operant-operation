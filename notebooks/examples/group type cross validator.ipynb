{
 "cells": [
  {
   "cell_type": "code",
   "execution_count": 1,
   "metadata": {},
   "outputs": [],
   "source": [
    "import numpy as np\n",
    "from op_op.grouptype_crossval import GroupTypeKFold"
   ]
  },
  {
   "cell_type": "markdown",
   "metadata": {},
   "source": [
    "## Group Type K-Fold Cross Validation\n",
    "\n",
    "- Groups ~ Trials\n",
    "- Group Types ~ Trial types.\n",
    "\n",
    "- Goal: Split data such that\n",
    "    - Data from each group is present only in one of the training or test sets.\n",
    "    - Data from each group type is present in equal proportions in the training and test sets."
   ]
  },
  {
   "cell_type": "code",
   "execution_count": 2,
   "metadata": {},
   "outputs": [],
   "source": [
    "def get_proportion_group_type(group_types, train_idx, test_idx):\n",
    "    \"\"\"Utility function, ignore\"\"\"\n",
    "    _, train_group_type_counts = np.unique(group_types[train_idx], return_counts=True)\n",
    "    _, test_group_type_counts = np.unique(group_types[test_idx], return_counts=True)\n",
    "\n",
    "    train_group_type_props = train_group_type_counts / len(train_idx)\n",
    "    test_group_type_props = test_group_type_counts / len(test_idx)\n",
    "\n",
    "    return train_group_type_props, test_group_type_props"
   ]
  },
  {
   "cell_type": "code",
   "execution_count": 3,
   "metadata": {},
   "outputs": [
    {
     "data": {
      "text/plain": [
       "[{'fold': 0,\n",
       "  'n_train': 412,\n",
       "  'n_test': 88,\n",
       "  'train_groups': array([1, 2, 3, 4, 6, 7, 8, 9]),\n",
       "  'test_groups': array([0, 5]),\n",
       "  'test_group_types': array(['A', 'B', 'C'], dtype='<U1'),\n",
       "  'train_group_types': array(['A', 'B', 'C'], dtype='<U1'),\n",
       "  'train_group_type_props': array([0.38349515, 0.30097087, 0.31553398]),\n",
       "  'test_group_type_props': array([0.26136364, 0.36363636, 0.375     ])},\n",
       " {'fold': 1,\n",
       "  'n_train': 401,\n",
       "  'n_test': 99,\n",
       "  'train_groups': array([0, 2, 3, 4, 5, 7, 8, 9]),\n",
       "  'test_groups': array([1, 6]),\n",
       "  'test_group_types': array(['A', 'B', 'C'], dtype='<U1'),\n",
       "  'train_group_types': array(['A', 'B', 'C'], dtype='<U1'),\n",
       "  'train_group_type_props': array([0.33665835, 0.32917706, 0.33416459]),\n",
       "  'test_group_type_props': array([0.46464646, 0.24242424, 0.29292929])},\n",
       " {'fold': 2,\n",
       "  'n_train': 407,\n",
       "  'n_test': 93,\n",
       "  'train_groups': array([0, 1, 3, 4, 5, 6, 8, 9]),\n",
       "  'test_groups': array([2, 7]),\n",
       "  'test_group_types': array(['A', 'B', 'C'], dtype='<U1'),\n",
       "  'train_group_types': array(['A', 'B', 'C'], dtype='<U1'),\n",
       "  'train_group_type_props': array([0.37592138, 0.30712531, 0.31695332]),\n",
       "  'test_group_type_props': array([0.30107527, 0.33333333, 0.3655914 ])},\n",
       " {'fold': 3,\n",
       "  'n_train': 393,\n",
       "  'n_test': 107,\n",
       "  'train_groups': array([0, 1, 2, 4, 5, 6, 7, 9]),\n",
       "  'test_groups': array([3, 8]),\n",
       "  'test_group_types': array(['A', 'B', 'C'], dtype='<U1'),\n",
       "  'train_group_types': array(['A', 'B', 'C'], dtype='<U1'),\n",
       "  'train_group_type_props': array([0.3562341 , 0.31043257, 0.33333333]),\n",
       "  'test_group_type_props': array([0.38317757, 0.31775701, 0.29906542])},\n",
       " {'fold': 4,\n",
       "  'n_train': 387,\n",
       "  'n_test': 113,\n",
       "  'train_groups': array([0, 1, 2, 3, 5, 6, 7, 8]),\n",
       "  'test_groups': array([4, 9]),\n",
       "  'test_group_types': array(['A', 'B', 'C'], dtype='<U1'),\n",
       "  'train_group_types': array(['A', 'B', 'C'], dtype='<U1'),\n",
       "  'train_group_type_props': array([0.35658915, 0.3126615 , 0.33074935]),\n",
       "  'test_group_type_props': array([0.38053097, 0.30973451, 0.30973451])}]"
      ]
     },
     "execution_count": 3,
     "metadata": {},
     "output_type": "execute_result"
    }
   ],
   "source": [
    "# simulate data\n",
    "X = np.random.rand(500, 2)\n",
    "groups = np.random.randint(0, 10, 500)\n",
    "group_types = np.random.choice([\"A\", \"B\", \"C\"], 500)\n",
    "\n",
    "# define cross-validation\n",
    "n_splits = 5\n",
    "gt_cv = GroupTypeKFold(n_splits=n_splits)\n",
    "\n",
    "# run cross-validation\n",
    "fold_results = []\n",
    "for fold, (train_idx, test_idx) in enumerate(\n",
    "    gt_cv.split(X, groups=groups, group_types=group_types)\n",
    "):\n",
    "    train_group_type_props, test_group_type_props = get_proportion_group_type(\n",
    "        group_types, train_idx, test_idx\n",
    "    )\n",
    "\n",
    "    fold_results.append(\n",
    "        {\n",
    "            \"fold\": fold,\n",
    "            \"n_train\": len(train_idx),\n",
    "            \"n_test\": len(test_idx),\n",
    "            \"train_groups\": np.unique(groups[train_idx]),\n",
    "            \"test_groups\": np.unique(groups[test_idx]),\n",
    "            \"test_group_types\": np.unique(group_types[test_idx]),\n",
    "            \"train_group_types\": np.unique(group_types[train_idx]),\n",
    "            \"train_group_type_props\": train_group_type_props,\n",
    "            \"test_group_type_props\": test_group_type_props,\n",
    "        }\n",
    "    )\n",
    "\n",
    "\n",
    "fold_results"
   ]
  }
 ],
 "metadata": {
  "kernelspec": {
   "display_name": "Python 3",
   "language": "python",
   "name": "python3"
  },
  "language_info": {
   "codemirror_mode": {
    "name": "ipython",
    "version": 3
   },
   "file_extension": ".py",
   "mimetype": "text/x-python",
   "name": "python",
   "nbconvert_exporter": "python",
   "pygments_lexer": "ipython3",
   "version": "3.11.7"
  }
 },
 "nbformat": 4,
 "nbformat_minor": 2
}
